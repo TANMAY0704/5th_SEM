{
 "cells": [
  {
   "cell_type": "code",
   "execution_count": 1,
   "metadata": {},
   "outputs": [],
   "source": [
    "import os\n",
    "import cv2\n",
    "import numpy as np\n",
    "from sklearn.neighbors import KNeighborsClassifier\n",
    "from sklearn.svm import SVC\n",
    "from sklearn.ensemble import RandomForestClassifier\n",
    "from sklearn.neural_network import MLPClassifier\n",
    "from sklearn.metrics import accuracy_score, classification_report\n",
    "import matplotlib.pyplot as plt\n"
   ]
  },
  {
   "cell_type": "code",
   "execution_count": 2,
   "metadata": {},
   "outputs": [],
   "source": [
    "def load_images_from_folders(root_folder):\n",
    "    images = []\n",
    "    labels = []\n",
    "\n",
    "    for label in os.listdir(root_folder):\n",
    "        label_path = os.path.join(root_folder, label)\n",
    "        if os.path.isdir(label_path):\n",
    "            for filename in os.listdir(label_path):\n",
    "                if filename.endswith(\".png\"):\n",
    "                    img_path = os.path.join(label_path, filename)\n",
    "                    label = int(label)  # Assuming the folder name is the label\n",
    "                    img = cv2.imread(img_path, cv2.IMREAD_GRAYSCALE)\n",
    "                    img = cv2.resize(img, (64, 64))  # Adjust the size as needed\n",
    "                    img = img.flatten()  # Flatten the image into a 1D array\n",
    "                    images.append(img)\n",
    "                    labels.append(label)\n",
    "\n",
    "    return np.array(images), np.array(labels)"
   ]
  },
  {
   "cell_type": "code",
   "execution_count": 3,
   "metadata": {},
   "outputs": [],
   "source": [
    "train_root_folder = 'Train'\n",
    "test_root_folder = 'Test'\n",
    "\n",
    "train_data, train_labels = load_images_from_folders(train_root_folder)\n",
    "test_data, test_labels = load_images_from_folders(test_root_folder)"
   ]
  },
  {
   "cell_type": "code",
   "execution_count": 4,
   "metadata": {},
   "outputs": [],
   "source": [
    "knn = KNeighborsClassifier(n_neighbors=5)\n",
    "knn.fit(train_data, train_labels)\n",
    "\n",
    "# Test the KNN classifier\n",
    "knn_pred = knn.predict(test_data)\n",
    "knn_acc = accuracy_score(test_labels, knn_pred)\n",
    "knn_report = classification_report(test_labels, knn_pred)"
   ]
  },
  {
   "cell_type": "code",
   "execution_count": 5,
   "metadata": {},
   "outputs": [],
   "source": [
    "svm = SVC(kernel='linear')\n",
    "svm.fit(train_data, train_labels)\n",
    "\n",
    "# Test the SVM classifier\n",
    "svm_pred = svm.predict(test_data)\n",
    "svm_acc = accuracy_score(test_labels, svm_pred)\n",
    "svm_report = classification_report(test_labels, svm_pred)"
   ]
  },
  {
   "cell_type": "code",
   "execution_count": 6,
   "metadata": {},
   "outputs": [],
   "source": [
    "# Train the Random Forest classifier\n",
    "rf = RandomForestClassifier(n_estimators=100)\n",
    "rf.fit(train_data, train_labels)\n",
    "\n",
    "# Test the Random Forest classifier\n",
    "rf_pred = rf.predict(test_data)\n",
    "rf_acc = accuracy_score(test_labels, rf_pred)\n",
    "rf_report = classification_report(test_labels, rf_pred)"
   ]
  },
  {
   "cell_type": "code",
   "execution_count": 7,
   "metadata": {},
   "outputs": [],
   "source": [
    "# Train the neural network classifier\n",
    "nn = MLPClassifier(hidden_layer_sizes=(100,), max_iter=1000)\n",
    "nn.fit(train_data, train_labels)\n",
    "\n",
    "# Test the neural network classifier\n",
    "nn_pred = nn.predict(test_data)\n",
    "nn_acc = accuracy_score(test_labels, nn_pred)\n",
    "nn_report = classification_report(test_labels, nn_pred)"
   ]
  },
  {
   "cell_type": "code",
   "execution_count": 8,
   "metadata": {},
   "outputs": [
    {
     "name": "stdout",
     "output_type": "stream",
     "text": [
      "KNN accuracy: 0.914\n",
      "SVM accuracy: 0.881\n",
      "Random Forest accuracy: 0.932\n",
      "Neural Network accuracy: 0.855\n"
     ]
    }
   ],
   "source": [
    "print('KNN accuracy:', knn_acc)\n",
    "print('SVM accuracy:', svm_acc)\n",
    "print('Random Forest accuracy:', rf_acc)\n",
    "print('Neural Network accuracy:', nn_acc)"
   ]
  },
  {
   "cell_type": "code",
   "execution_count": 9,
   "metadata": {},
   "outputs": [
    {
     "name": "stdout",
     "output_type": "stream",
     "text": [
      "\n",
      "KNN Classification Report:\n",
      "\n",
      "               precision    recall  f1-score   support\n",
      "\n",
      "           0       0.93      0.98      0.96       100\n",
      "           1       0.75      1.00      0.85       100\n",
      "           2       1.00      0.91      0.95       100\n",
      "           3       0.97      0.98      0.98       100\n",
      "           4       0.95      0.96      0.96       100\n",
      "           5       0.93      0.91      0.92       100\n",
      "           6       0.94      0.96      0.95       100\n",
      "           7       0.93      0.83      0.88       100\n",
      "           8       0.94      0.81      0.87       100\n",
      "           9       0.86      0.80      0.83       100\n",
      "\n",
      "    accuracy                           0.91      1000\n",
      "   macro avg       0.92      0.91      0.91      1000\n",
      "weighted avg       0.92      0.91      0.91      1000\n",
      "\n"
     ]
    }
   ],
   "source": [
    "print('\\nKNN Classification Report:\\n\\n', knn_report)"
   ]
  },
  {
   "cell_type": "code",
   "execution_count": 10,
   "metadata": {},
   "outputs": [
    {
     "name": "stdout",
     "output_type": "stream",
     "text": [
      "\n",
      "SVM Classification Report:\n",
      "\n",
      "               precision    recall  f1-score   support\n",
      "\n",
      "           0       0.94      0.88      0.91       100\n",
      "           1       0.86      0.97      0.91       100\n",
      "           2       0.87      0.84      0.85       100\n",
      "           3       0.83      0.92      0.87       100\n",
      "           4       0.84      0.91      0.87       100\n",
      "           5       0.87      0.85      0.86       100\n",
      "           6       0.96      0.91      0.93       100\n",
      "           7       0.94      0.93      0.93       100\n",
      "           8       0.82      0.77      0.79       100\n",
      "           9       0.91      0.83      0.87       100\n",
      "\n",
      "    accuracy                           0.88      1000\n",
      "   macro avg       0.88      0.88      0.88      1000\n",
      "weighted avg       0.88      0.88      0.88      1000\n",
      "\n"
     ]
    }
   ],
   "source": [
    "print('\\nSVM Classification Report:\\n\\n', svm_report)"
   ]
  },
  {
   "cell_type": "code",
   "execution_count": 11,
   "metadata": {},
   "outputs": [
    {
     "name": "stdout",
     "output_type": "stream",
     "text": [
      "\n",
      "Random Forest Classification Report:\n",
      "\n",
      "               precision    recall  f1-score   support\n",
      "\n",
      "           0       0.95      0.97      0.96       100\n",
      "           1       0.92      0.97      0.95       100\n",
      "           2       0.97      0.91      0.94       100\n",
      "           3       0.91      0.91      0.91       100\n",
      "           4       0.92      0.98      0.95       100\n",
      "           5       0.96      0.94      0.95       100\n",
      "           6       0.96      0.88      0.92       100\n",
      "           7       0.97      0.95      0.96       100\n",
      "           8       0.88      0.89      0.89       100\n",
      "           9       0.89      0.92      0.91       100\n",
      "\n",
      "    accuracy                           0.93      1000\n",
      "   macro avg       0.93      0.93      0.93      1000\n",
      "weighted avg       0.93      0.93      0.93      1000\n",
      "\n"
     ]
    }
   ],
   "source": [
    "print('\\nRandom Forest Classification Report:\\n\\n', rf_report)"
   ]
  },
  {
   "cell_type": "code",
   "execution_count": 12,
   "metadata": {},
   "outputs": [
    {
     "name": "stdout",
     "output_type": "stream",
     "text": [
      "\n",
      "Neural Network Classification Report:\n",
      "\n",
      "               precision    recall  f1-score   support\n",
      "\n",
      "           0       0.95      0.88      0.91       100\n",
      "           1       0.90      0.98      0.94       100\n",
      "           2       0.90      0.79      0.84       100\n",
      "           3       0.77      0.72      0.75       100\n",
      "           4       0.88      0.94      0.91       100\n",
      "           5       0.88      0.84      0.86       100\n",
      "           6       0.96      0.93      0.94       100\n",
      "           7       0.88      0.81      0.84       100\n",
      "           8       0.67      0.83      0.74       100\n",
      "           9       0.81      0.83      0.82       100\n",
      "\n",
      "    accuracy                           0.85      1000\n",
      "   macro avg       0.86      0.86      0.86      1000\n",
      "weighted avg       0.86      0.85      0.86      1000\n",
      "\n"
     ]
    }
   ],
   "source": [
    "print('\\nNeural Network Classification Report:\\n\\n', nn_report)"
   ]
  },
  {
   "cell_type": "code",
   "execution_count": 13,
   "metadata": {},
   "outputs": [
    {
     "data": {
      "image/png": "[encoded data removed]",
      "text/plain": [
       "<Figure size 640x480 with 1 Axes>"
      ]
     },
     "metadata": {},
     "output_type": "display_data"
    }
   ],
   "source": [
    "labels = ['KNN', 'SVM', 'Random Forest', 'Neural Network']\n",
    "accuracies = [knn_acc, svm_acc, rf_acc, nn_acc]\n",
    "\n",
    "plt.bar(labels, accuracies)\n",
    "plt.ylabel('Accuracy')\n",
    "plt.title('Classifier Performance')\n",
    "\n",
    "for i, value in enumerate(accuracies):\n",
    "    plt.text(i, value + 0.01, f'{value:.2f}', ha='center', va='bottom')\n",
    "\n",
    "plt.show()\n"
   ]
  }
 ],
 "metadata": {
  "kernelspec": {
   "display_name": "Python 3",
   "language": "python",
   "name": "python3"
  },
  "language_info": {
   "codemirror_mode": {
    "name": "ipython",
    "version": 3
   },
   "file_extension": ".py",
   "mimetype": "text/x-python",
   "name": "python",
   "nbconvert_exporter": "python",
   "pygments_lexer": "ipython3",
   "version": "3.11.6"
  }
 },
 "nbformat": 4,
 "nbformat_minor": 2
}
