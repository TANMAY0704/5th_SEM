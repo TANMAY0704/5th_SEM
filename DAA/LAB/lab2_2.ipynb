{
 "cells": [
  {
   "cell_type": "code",
   "execution_count": 6,
   "metadata": {},
   "outputs": [],
   "source": [
    "# Euclid's algorithm to find GCD\n",
    "def euclid_gcd(a_rs_69, b_rs_69):\n",
    "    count_rs_69 = 0\n",
    "    while b_rs_69:\n",
    "        count_rs_69 += 1\n",
    "        a_rs_69, b_rs_69 = b_rs_69, a_rs_69 % b_rs_69\n",
    "    return a_rs_69, count_rs_69"
   ]
  },
  {
   "cell_type": "code",
   "execution_count": 12,
   "metadata": {},
   "outputs": [],
   "source": [
    "# Consecutive integer checking algorithm to find GCD\n",
    "def consecutive_integer_gcd(a_rs_69, b_rs_69):\n",
    "    count_rs_69 = 0\n",
    "    gcd_rs_69 = min(a_rs_69, b_rs_69)\n",
    "    while gcd_rs_69 > 0:\n",
    "        count_rs_69 += 1\n",
    "        if a_rs_69 % gcd_rs_69 == 0 and b_rs_69 % gcd_rs_69 == 0:\n",
    "            break\n",
    "        gcd_rs_69 -= 1\n",
    "    return gcd_rs_69, count_rs_69"
   ]
  },
  {
   "cell_type": "code",
   "execution_count": 13,
   "metadata": {},
   "outputs": [],
   "source": [
    "def sieve_of_eratosthenes(limit_rs_69):\n",
    "    primes = [True] * (limit_rs_69 + 1)\n",
    "    primes[0], primes[1] = False, False\n",
    "    p = 2\n",
    "    while p * p <= limit_rs_69:\n",
    "        if primes[p]:\n",
    "            for i in range(p * p, limit_rs_69 + 1, p):\n",
    "                primes[i] = False\n",
    "        p += 1\n",
    "    return [x for x in range(limit_rs_69 + 1) if primes[x]]"
   ]
  },
  {
   "cell_type": "code",
   "execution_count": 14,
   "metadata": {},
   "outputs": [],
   "source": [
    "# Middle school procedure with common prime factors\n",
    "def middle_school_gcd(a_rs_69, b_rs_69):\n",
    "    def prime_factors(num):\n",
    "        factors_rs_69 = []\n",
    "        primes = sieve_of_eratosthenes(int(num ** 0.5) + 1)\n",
    "        for prime in primes:\n",
    "            while num % prime == 0:\n",
    "                factors_rs_69.append(prime)\n",
    "                num //= prime\n",
    "        if num > 1:\n",
    "            factors_rs_69.append(num)\n",
    "        return factors_rs_69\n",
    "\n",
    "    factors_a = prime_factors(a_rs_69)\n",
    "    factors_b = prime_factors(b_rs_69)\n",
    "    common_factors = set(factors_a).intersection(factors_b)\n",
    "    return 1 if not common_factors else max(common_factors), len(prime_factors(a_rs_69)) + len(prime_factors(b_rs_69))\n"
   ]
  },
  {
   "cell_type": "code",
   "execution_count": 16,
   "metadata": {},
   "outputs": [
    {
     "name": "stdout",
     "output_type": "stream",
     "text": [
      "GCD of (31415, 14142):\n",
      "euclid_gcd: 1, Loop Iterations: 10\n",
      "consecutive_integer_gcd: 1, Loop Iterations: 14142\n",
      "middle_school_gcd: 1, Loop Iterations: 6\n",
      "---\n",
      "GCD of (56, 32566):\n",
      "euclid_gcd: 2, Loop Iterations: 6\n",
      "consecutive_integer_gcd: 2, Loop Iterations: 55\n",
      "middle_school_gcd: 2, Loop Iterations: 7\n",
      "---\n",
      "GCD of (34218, 56):\n",
      "euclid_gcd: 2, Loop Iterations: 2\n",
      "consecutive_integer_gcd: 2, Loop Iterations: 55\n",
      "middle_school_gcd: 2, Loop Iterations: 8\n",
      "---\n",
      "GCD of (12, 15):\n",
      "euclid_gcd: 3, Loop Iterations: 3\n",
      "consecutive_integer_gcd: 3, Loop Iterations: 10\n",
      "middle_school_gcd: 3, Loop Iterations: 5\n",
      "---\n",
      "GCD of (31415, 31415):\n",
      "euclid_gcd: 31415, Loop Iterations: 1\n",
      "consecutive_integer_gcd: 31415, Loop Iterations: 1\n",
      "middle_school_gcd: 103, Loop Iterations: 6\n",
      "---\n",
      "GCD of (12, 12):\n",
      "euclid_gcd: 12, Loop Iterations: 1\n",
      "consecutive_integer_gcd: 12, Loop Iterations: 1\n",
      "middle_school_gcd: 3, Loop Iterations: 6\n",
      "---\n"
     ]
    }
   ],
   "source": [
    "# Test cases\n",
    "test_cases = [\n",
    "    (31415, 14142),\n",
    "    (56, 32566),\n",
    "    (34218, 56),\n",
    "    (12, 15),\n",
    "    (31415, 31415),\n",
    "    (12, 12)\n",
    "]\n",
    "\n",
    "# Measure the number of loop iterations for each algorithm for each test case\n",
    "algorithms = [euclid_gcd, consecutive_integer_gcd, middle_school_gcd]\n",
    "\n",
    "for a, b in test_cases:\n",
    "    print(f\"GCD of ({a}, {b}):\")\n",
    "    for algo in algorithms:\n",
    "        result, count = algo(a, b)\n",
    "        print(f\"{algo.__name__}: {result}, Loop Iterations: {count}\")\n",
    "    print(\"---\")\n"
   ]
  }
 ],
 "metadata": {
  "kernelspec": {
   "display_name": "Python 3",
   "language": "python",
   "name": "python3"
  },
  "language_info": {
   "codemirror_mode": {
    "name": "ipython",
    "version": 3
   },
   "file_extension": ".py",
   "mimetype": "text/x-python",
   "name": "python",
   "nbconvert_exporter": "python",
   "pygments_lexer": "ipython3",
   "version": "3.11.4"
  },
  "orig_nbformat": 4
 },
 "nbformat": 4,
 "nbformat_minor": 2
}
