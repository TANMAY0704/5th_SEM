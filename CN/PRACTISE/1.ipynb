{
 "cells": [
  {
   "cell_type": "code",
   "execution_count": 3,
   "metadata": {},
   "outputs": [
    {
     "name": "stdout",
     "output_type": "stream",
     "text": [
      "The maximum Manhattan distance between the two clusters is: 52\n"
     ]
    }
   ],
   "source": [
    "def manhattan_distance(cluster1, cluster2):\n",
    "\n",
    "  distance = 0\n",
    "  for i in range(len(cluster1)):\n",
    "    distance += abs(cluster1[i] - cluster2[i])\n",
    "  return distance\n",
    "\n",
    "\n",
    "def main():\n",
    "\n",
    "  cluster1 = [2, 4, 10, 12]\n",
    "  cluster2 = [20, 30, 3, 11]\n",
    "  print(f\"The maximum Manhattan distance between the two clusters is: {manhattan_distance(cluster1, cluster2)}\")\n",
    "        \n",
    "if __name__ == \"__main__\":\n",
    "  main()"
   ]
  }
 ],
 "metadata": {
  "kernelspec": {
   "display_name": "Python 3",
   "language": "python",
   "name": "python3"
  },
  "language_info": {
   "codemirror_mode": {
    "name": "ipython",
    "version": 3
   },
   "file_extension": ".py",
   "mimetype": "text/x-python",
   "name": "python",
   "nbconvert_exporter": "python",
   "pygments_lexer": "ipython3",
   "version": "3.11.5"
  },
  "orig_nbformat": 4
 },
 "nbformat": 4,
 "nbformat_minor": 2
}
